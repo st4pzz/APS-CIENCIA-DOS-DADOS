{
 "cells": [
  {
   "cell_type": "markdown",
   "metadata": {},
   "source": [
    "**<h1>Exercicio 1</h1>**\n",
    "\n",
    "*<h3>União Europeia:</h3>*\n",
    "\n",
    "``Critério de criação:`` Proximidade geográfica, objetivo de criar um ambiente de paz entre as nações após a guerra fria, melhorar a situação econômica, igualdade.\n",
    "\n",
    "``Aberturas Providas:`` Mercado único(utilização da mesma moeda, “Euro”), livre circulação da população entre os países inclusos, criação de condições para o desenvolvimento sustentável\n",
    "\n",
    "*<h3>MERCOSUL</h3>*\n",
    "\n",
    "``Critério de criação:`` proximidade geográfica e econômica \n",
    "\n",
    "``Aberturas providas:`` maior circulação de pessoas, produtos, capital , trabalho : diminuição dos impostos, menos burocracia para documentos de viagens, acordo de residência entre os países, reconhecimento de diplomas e certificados estudantis no bloco, permissão dos benefícios sociais entre os países.\n",
    "\n",
    "**<h3>Fontes</h3>**\n",
    " - União Europeia: <https://brasilescola.uol.com.br/geografia/uniao-europeia.htm>\n",
    " - Merco Sul: <https://mundoeducacao.uol.com.br/geografia/mercosul.htm>"
   ]
  },
  {
   "cell_type": "markdown",
   "metadata": {},
   "source": [
    "**<h1>Exercicio 2</h1>**"
   ]
  },
  {
   "cell_type": "code",
   "execution_count": 1,
   "metadata": {},
   "outputs": [
    {
     "data": {
      "text/html": [
       "<div>\n",
       "<style scoped>\n",
       "    .dataframe tbody tr th:only-of-type {\n",
       "        vertical-align: middle;\n",
       "    }\n",
       "\n",
       "    .dataframe tbody tr th {\n",
       "        vertical-align: top;\n",
       "    }\n",
       "\n",
       "    .dataframe thead th {\n",
       "        text-align: right;\n",
       "    }\n",
       "</style>\n",
       "<table border=\"1\" class=\"dataframe\">\n",
       "  <thead>\n",
       "    <tr style=\"text-align: right;\">\n",
       "      <th></th>\n",
       "      <th>Country Name</th>\n",
       "      <th>Country Code</th>\n",
       "      <th>Indicator Name</th>\n",
       "      <th>Indicator Code</th>\n",
       "      <th>1960</th>\n",
       "      <th>1961</th>\n",
       "      <th>1962</th>\n",
       "      <th>1963</th>\n",
       "      <th>1964</th>\n",
       "      <th>1965</th>\n",
       "      <th>...</th>\n",
       "      <th>2013</th>\n",
       "      <th>2014</th>\n",
       "      <th>2015</th>\n",
       "      <th>2016</th>\n",
       "      <th>2017</th>\n",
       "      <th>2018</th>\n",
       "      <th>2019</th>\n",
       "      <th>2020</th>\n",
       "      <th>2021</th>\n",
       "      <th>Unnamed: 66</th>\n",
       "    </tr>\n",
       "  </thead>\n",
       "  <tbody>\n",
       "    <tr>\n",
       "      <th>0</th>\n",
       "      <td>Aruba</td>\n",
       "      <td>ABW</td>\n",
       "      <td>GDP growth (annual %)</td>\n",
       "      <td>NY.GDP.MKTP.KD.ZG</td>\n",
       "      <td>NaN</td>\n",
       "      <td>NaN</td>\n",
       "      <td>NaN</td>\n",
       "      <td>NaN</td>\n",
       "      <td>NaN</td>\n",
       "      <td>NaN</td>\n",
       "      <td>...</td>\n",
       "      <td>6.429817</td>\n",
       "      <td>-0.020479</td>\n",
       "      <td>3.543630</td>\n",
       "      <td>2.116716</td>\n",
       "      <td>5.482371</td>\n",
       "      <td>1.267218</td>\n",
       "      <td>-2.085600</td>\n",
       "      <td>-22.318948</td>\n",
       "      <td>NaN</td>\n",
       "      <td>NaN</td>\n",
       "    </tr>\n",
       "    <tr>\n",
       "      <th>1</th>\n",
       "      <td>Africa Eastern and Southern</td>\n",
       "      <td>AFE</td>\n",
       "      <td>GDP growth (annual %)</td>\n",
       "      <td>NY.GDP.MKTP.KD.ZG</td>\n",
       "      <td>NaN</td>\n",
       "      <td>0.239594</td>\n",
       "      <td>7.980768</td>\n",
       "      <td>5.164334</td>\n",
       "      <td>4.579952</td>\n",
       "      <td>5.327717</td>\n",
       "      <td>...</td>\n",
       "      <td>4.200209</td>\n",
       "      <td>3.984387</td>\n",
       "      <td>2.952845</td>\n",
       "      <td>2.217017</td>\n",
       "      <td>2.557135</td>\n",
       "      <td>2.485244</td>\n",
       "      <td>2.025941</td>\n",
       "      <td>-2.886856</td>\n",
       "      <td>4.303667</td>\n",
       "      <td>NaN</td>\n",
       "    </tr>\n",
       "    <tr>\n",
       "      <th>2</th>\n",
       "      <td>Afghanistan</td>\n",
       "      <td>AFG</td>\n",
       "      <td>GDP growth (annual %)</td>\n",
       "      <td>NY.GDP.MKTP.KD.ZG</td>\n",
       "      <td>NaN</td>\n",
       "      <td>NaN</td>\n",
       "      <td>NaN</td>\n",
       "      <td>NaN</td>\n",
       "      <td>NaN</td>\n",
       "      <td>NaN</td>\n",
       "      <td>...</td>\n",
       "      <td>5.600745</td>\n",
       "      <td>2.724543</td>\n",
       "      <td>1.451315</td>\n",
       "      <td>2.260314</td>\n",
       "      <td>2.647003</td>\n",
       "      <td>1.189228</td>\n",
       "      <td>3.911603</td>\n",
       "      <td>-2.351101</td>\n",
       "      <td>NaN</td>\n",
       "      <td>NaN</td>\n",
       "    </tr>\n",
       "    <tr>\n",
       "      <th>3</th>\n",
       "      <td>Africa Western and Central</td>\n",
       "      <td>AFW</td>\n",
       "      <td>GDP growth (annual %)</td>\n",
       "      <td>NY.GDP.MKTP.KD.ZG</td>\n",
       "      <td>NaN</td>\n",
       "      <td>1.848752</td>\n",
       "      <td>3.770220</td>\n",
       "      <td>7.272440</td>\n",
       "      <td>5.396349</td>\n",
       "      <td>4.049793</td>\n",
       "      <td>...</td>\n",
       "      <td>6.104192</td>\n",
       "      <td>5.927355</td>\n",
       "      <td>2.745894</td>\n",
       "      <td>0.127844</td>\n",
       "      <td>2.317679</td>\n",
       "      <td>2.952190</td>\n",
       "      <td>3.202544</td>\n",
       "      <td>-0.897014</td>\n",
       "      <td>3.914799</td>\n",
       "      <td>NaN</td>\n",
       "    </tr>\n",
       "    <tr>\n",
       "      <th>4</th>\n",
       "      <td>Angola</td>\n",
       "      <td>AGO</td>\n",
       "      <td>GDP growth (annual %)</td>\n",
       "      <td>NY.GDP.MKTP.KD.ZG</td>\n",
       "      <td>NaN</td>\n",
       "      <td>NaN</td>\n",
       "      <td>NaN</td>\n",
       "      <td>NaN</td>\n",
       "      <td>NaN</td>\n",
       "      <td>NaN</td>\n",
       "      <td>...</td>\n",
       "      <td>4.950000</td>\n",
       "      <td>4.820000</td>\n",
       "      <td>0.940000</td>\n",
       "      <td>-2.580000</td>\n",
       "      <td>-0.150000</td>\n",
       "      <td>-1.316312</td>\n",
       "      <td>-0.700000</td>\n",
       "      <td>-5.500000</td>\n",
       "      <td>0.700000</td>\n",
       "      <td>NaN</td>\n",
       "    </tr>\n",
       "    <tr>\n",
       "      <th>...</th>\n",
       "      <td>...</td>\n",
       "      <td>...</td>\n",
       "      <td>...</td>\n",
       "      <td>...</td>\n",
       "      <td>...</td>\n",
       "      <td>...</td>\n",
       "      <td>...</td>\n",
       "      <td>...</td>\n",
       "      <td>...</td>\n",
       "      <td>...</td>\n",
       "      <td>...</td>\n",
       "      <td>...</td>\n",
       "      <td>...</td>\n",
       "      <td>...</td>\n",
       "      <td>...</td>\n",
       "      <td>...</td>\n",
       "      <td>...</td>\n",
       "      <td>...</td>\n",
       "      <td>...</td>\n",
       "      <td>...</td>\n",
       "      <td>...</td>\n",
       "    </tr>\n",
       "    <tr>\n",
       "      <th>261</th>\n",
       "      <td>Kosovo</td>\n",
       "      <td>XKX</td>\n",
       "      <td>GDP growth (annual %)</td>\n",
       "      <td>NY.GDP.MKTP.KD.ZG</td>\n",
       "      <td>NaN</td>\n",
       "      <td>NaN</td>\n",
       "      <td>NaN</td>\n",
       "      <td>NaN</td>\n",
       "      <td>NaN</td>\n",
       "      <td>NaN</td>\n",
       "      <td>...</td>\n",
       "      <td>5.340908</td>\n",
       "      <td>3.348804</td>\n",
       "      <td>5.916270</td>\n",
       "      <td>5.571757</td>\n",
       "      <td>4.825690</td>\n",
       "      <td>3.406631</td>\n",
       "      <td>4.756831</td>\n",
       "      <td>-5.340275</td>\n",
       "      <td>9.127578</td>\n",
       "      <td>NaN</td>\n",
       "    </tr>\n",
       "    <tr>\n",
       "      <th>262</th>\n",
       "      <td>Yemen, Rep.</td>\n",
       "      <td>YEM</td>\n",
       "      <td>GDP growth (annual %)</td>\n",
       "      <td>NY.GDP.MKTP.KD.ZG</td>\n",
       "      <td>NaN</td>\n",
       "      <td>NaN</td>\n",
       "      <td>NaN</td>\n",
       "      <td>NaN</td>\n",
       "      <td>NaN</td>\n",
       "      <td>NaN</td>\n",
       "      <td>...</td>\n",
       "      <td>4.823415</td>\n",
       "      <td>-0.188574</td>\n",
       "      <td>-27.994546</td>\n",
       "      <td>-9.375124</td>\n",
       "      <td>-5.071796</td>\n",
       "      <td>0.752448</td>\n",
       "      <td>1.400000</td>\n",
       "      <td>-8.500000</td>\n",
       "      <td>-2.061513</td>\n",
       "      <td>NaN</td>\n",
       "    </tr>\n",
       "    <tr>\n",
       "      <th>263</th>\n",
       "      <td>South Africa</td>\n",
       "      <td>ZAF</td>\n",
       "      <td>GDP growth (annual %)</td>\n",
       "      <td>NY.GDP.MKTP.KD.ZG</td>\n",
       "      <td>NaN</td>\n",
       "      <td>3.844734</td>\n",
       "      <td>6.177931</td>\n",
       "      <td>7.373709</td>\n",
       "      <td>7.939609</td>\n",
       "      <td>6.122798</td>\n",
       "      <td>...</td>\n",
       "      <td>2.485468</td>\n",
       "      <td>1.413826</td>\n",
       "      <td>1.321862</td>\n",
       "      <td>0.664552</td>\n",
       "      <td>1.157947</td>\n",
       "      <td>1.487617</td>\n",
       "      <td>0.113054</td>\n",
       "      <td>-6.431975</td>\n",
       "      <td>4.914603</td>\n",
       "      <td>NaN</td>\n",
       "    </tr>\n",
       "    <tr>\n",
       "      <th>264</th>\n",
       "      <td>Zambia</td>\n",
       "      <td>ZMB</td>\n",
       "      <td>GDP growth (annual %)</td>\n",
       "      <td>NY.GDP.MKTP.KD.ZG</td>\n",
       "      <td>NaN</td>\n",
       "      <td>1.361382</td>\n",
       "      <td>-2.490839</td>\n",
       "      <td>3.272393</td>\n",
       "      <td>12.214048</td>\n",
       "      <td>16.647456</td>\n",
       "      <td>...</td>\n",
       "      <td>5.057232</td>\n",
       "      <td>4.697992</td>\n",
       "      <td>2.920375</td>\n",
       "      <td>3.776679</td>\n",
       "      <td>3.504336</td>\n",
       "      <td>4.034494</td>\n",
       "      <td>1.441306</td>\n",
       "      <td>-2.785055</td>\n",
       "      <td>3.572815</td>\n",
       "      <td>NaN</td>\n",
       "    </tr>\n",
       "    <tr>\n",
       "      <th>265</th>\n",
       "      <td>Zimbabwe</td>\n",
       "      <td>ZWE</td>\n",
       "      <td>GDP growth (annual %)</td>\n",
       "      <td>NY.GDP.MKTP.KD.ZG</td>\n",
       "      <td>NaN</td>\n",
       "      <td>6.316157</td>\n",
       "      <td>1.434471</td>\n",
       "      <td>6.244345</td>\n",
       "      <td>-1.106172</td>\n",
       "      <td>4.910571</td>\n",
       "      <td>...</td>\n",
       "      <td>1.989493</td>\n",
       "      <td>2.376929</td>\n",
       "      <td>1.779873</td>\n",
       "      <td>0.755869</td>\n",
       "      <td>4.709492</td>\n",
       "      <td>4.824211</td>\n",
       "      <td>-6.144236</td>\n",
       "      <td>-6.248748</td>\n",
       "      <td>5.849420</td>\n",
       "      <td>NaN</td>\n",
       "    </tr>\n",
       "  </tbody>\n",
       "</table>\n",
       "<p>266 rows × 67 columns</p>\n",
       "</div>"
      ],
      "text/plain": [
       "                    Country Name Country Code         Indicator Name  \\\n",
       "0                          Aruba          ABW  GDP growth (annual %)   \n",
       "1    Africa Eastern and Southern          AFE  GDP growth (annual %)   \n",
       "2                    Afghanistan          AFG  GDP growth (annual %)   \n",
       "3     Africa Western and Central          AFW  GDP growth (annual %)   \n",
       "4                         Angola          AGO  GDP growth (annual %)   \n",
       "..                           ...          ...                    ...   \n",
       "261                       Kosovo          XKX  GDP growth (annual %)   \n",
       "262                  Yemen, Rep.          YEM  GDP growth (annual %)   \n",
       "263                 South Africa          ZAF  GDP growth (annual %)   \n",
       "264                       Zambia          ZMB  GDP growth (annual %)   \n",
       "265                     Zimbabwe          ZWE  GDP growth (annual %)   \n",
       "\n",
       "        Indicator Code  1960      1961      1962      1963       1964  \\\n",
       "0    NY.GDP.MKTP.KD.ZG   NaN       NaN       NaN       NaN        NaN   \n",
       "1    NY.GDP.MKTP.KD.ZG   NaN  0.239594  7.980768  5.164334   4.579952   \n",
       "2    NY.GDP.MKTP.KD.ZG   NaN       NaN       NaN       NaN        NaN   \n",
       "3    NY.GDP.MKTP.KD.ZG   NaN  1.848752  3.770220  7.272440   5.396349   \n",
       "4    NY.GDP.MKTP.KD.ZG   NaN       NaN       NaN       NaN        NaN   \n",
       "..                 ...   ...       ...       ...       ...        ...   \n",
       "261  NY.GDP.MKTP.KD.ZG   NaN       NaN       NaN       NaN        NaN   \n",
       "262  NY.GDP.MKTP.KD.ZG   NaN       NaN       NaN       NaN        NaN   \n",
       "263  NY.GDP.MKTP.KD.ZG   NaN  3.844734  6.177931  7.373709   7.939609   \n",
       "264  NY.GDP.MKTP.KD.ZG   NaN  1.361382 -2.490839  3.272393  12.214048   \n",
       "265  NY.GDP.MKTP.KD.ZG   NaN  6.316157  1.434471  6.244345  -1.106172   \n",
       "\n",
       "          1965  ...      2013      2014       2015      2016      2017  \\\n",
       "0          NaN  ...  6.429817 -0.020479   3.543630  2.116716  5.482371   \n",
       "1     5.327717  ...  4.200209  3.984387   2.952845  2.217017  2.557135   \n",
       "2          NaN  ...  5.600745  2.724543   1.451315  2.260314  2.647003   \n",
       "3     4.049793  ...  6.104192  5.927355   2.745894  0.127844  2.317679   \n",
       "4          NaN  ...  4.950000  4.820000   0.940000 -2.580000 -0.150000   \n",
       "..         ...  ...       ...       ...        ...       ...       ...   \n",
       "261        NaN  ...  5.340908  3.348804   5.916270  5.571757  4.825690   \n",
       "262        NaN  ...  4.823415 -0.188574 -27.994546 -9.375124 -5.071796   \n",
       "263   6.122798  ...  2.485468  1.413826   1.321862  0.664552  1.157947   \n",
       "264  16.647456  ...  5.057232  4.697992   2.920375  3.776679  3.504336   \n",
       "265   4.910571  ...  1.989493  2.376929   1.779873  0.755869  4.709492   \n",
       "\n",
       "         2018      2019       2020      2021  Unnamed: 66  \n",
       "0    1.267218 -2.085600 -22.318948       NaN          NaN  \n",
       "1    2.485244  2.025941  -2.886856  4.303667          NaN  \n",
       "2    1.189228  3.911603  -2.351101       NaN          NaN  \n",
       "3    2.952190  3.202544  -0.897014  3.914799          NaN  \n",
       "4   -1.316312 -0.700000  -5.500000  0.700000          NaN  \n",
       "..        ...       ...        ...       ...          ...  \n",
       "261  3.406631  4.756831  -5.340275  9.127578          NaN  \n",
       "262  0.752448  1.400000  -8.500000 -2.061513          NaN  \n",
       "263  1.487617  0.113054  -6.431975  4.914603          NaN  \n",
       "264  4.034494  1.441306  -2.785055  3.572815          NaN  \n",
       "265  4.824211 -6.144236  -6.248748  5.849420          NaN  \n",
       "\n",
       "[266 rows x 67 columns]"
      ]
     },
     "execution_count": 1,
     "metadata": {},
     "output_type": "execute_result"
    }
   ],
   "source": [
    "import pandas as pd\n",
    "df = pd.read_csv('API_NY.GDP.MKTP.KD.ZG_DS2_en_csv_v2_4682262.csv', skiprows=4)\n",
    "df"
   ]
  },
  {
   "cell_type": "markdown",
   "metadata": {},
   "source": [
    "**<h3>MERCOSUL</h3>**"
   ]
  },
  {
   "cell_type": "code",
   "execution_count": 2,
   "metadata": {},
   "outputs": [
    {
     "name": "stdout",
     "output_type": "stream",
     "text": [
      "{'Argentina': 2.3464302141455944, 'Brazil': 3.878297872085246, 'Paraguay': 4.5772467154845895, 'Uruguay': 2.159678446107161, 'Venezuela, RB': 2.80546660381058}\n"
     ]
    },
    {
     "name": "stderr",
     "output_type": "stream",
     "text": [
      "C:\\Users\\Eduardo\\AppData\\Local\\Temp\\ipykernel_1992\\192528814.py:7: FutureWarning: Dropping of nuisance columns in DataFrame reductions (with 'numeric_only=None') is deprecated; in a future version this will raise TypeError.  Select only valid columns before calling the reduction.\n",
      "  df_mercosul['media'] = df_mercosul.mean(axis=1)\n",
      "C:\\Users\\Eduardo\\AppData\\Local\\Temp\\ipykernel_1992\\192528814.py:7: SettingWithCopyWarning: \n",
      "A value is trying to be set on a copy of a slice from a DataFrame.\n",
      "Try using .loc[row_indexer,col_indexer] = value instead\n",
      "\n",
      "See the caveats in the documentation: https://pandas.pydata.org/pandas-docs/stable/user_guide/indexing.html#returning-a-view-versus-a-copy\n",
      "  df_mercosul['media'] = df_mercosul.mean(axis=1)\n"
     ]
    }
   ],
   "source": [
    "# lista mercosul\n",
    "mercosul = ['Argentina', 'Brazil', 'Paraguay', 'Uruguay', 'Venezuela, RB']\n",
    "dici_media_mercosul = {}\n",
    "df_mercosul = df[df['Country Name'].isin(mercosul)]\n",
    "\n",
    "# fazer nova coluna com media\n",
    "df_mercosul['media'] = df_mercosul.mean(axis=1)\n",
    "\n",
    "#Pega coluna media\n",
    "df_mercosul = df_mercosul['media']\n",
    "\n",
    "\n",
    "\n",
    "for pais,num in zip(mercosul,range(len(df_mercosul))):\n",
    "    dici_media_mercosul[pais] = (df_mercosul.iloc[num])\n",
    "print(dici_media_mercosul)"
   ]
  },
  {
   "cell_type": "markdown",
   "metadata": {},
   "source": [
    "**<h3>União Europeia</h3>**"
   ]
  },
  {
   "cell_type": "code",
   "execution_count": 3,
   "metadata": {},
   "outputs": [
    {
     "name": "stdout",
     "output_type": "stream",
     "text": [
      "{'Austria': 2.6146182106948643, 'Belgium': 2.5637572782823366, 'Bulgaria': 1.6920680367427192, 'Croatia': 4.740476510824953, 'Cyprus': 1.8567197158198254, 'Czech Republic': 2.382949664642982, 'Denmark': 3.190434526424092, 'Estonia': 4.158438297665802, 'Finland': 2.748554804362763, 'France': 2.687199430280741, 'Germany': 2.324630782962477, 'Greece': 2.7210990421824968, 'Hungary': 2.208550917793755, 'Ireland': 2.224328592348669, 'Italy': 5.17917176188515, 'Latvia': 2.269971246006845, 'Lithuania': 4.185661924082747, 'Luxembourg': 3.687347408107278, 'Malta': 3.7399670761748443, 'Netherlands': 5.579267433472188, 'Poland': 2.7598409998146205, 'Portugal': 3.6576861392566906, 'Romania': 3.082926756047373, 'Slovak Republic': 2.249333991938373, 'Slovenia': 3.62410603506372, 'Spain': 2.6978817763627823, 'Sweden': 2.529123206908514}\n"
     ]
    },
    {
     "name": "stderr",
     "output_type": "stream",
     "text": [
      "C:\\Users\\Eduardo\\AppData\\Local\\Temp\\ipykernel_1992\\2264716236.py:7: FutureWarning: Dropping of nuisance columns in DataFrame reductions (with 'numeric_only=None') is deprecated; in a future version this will raise TypeError.  Select only valid columns before calling the reduction.\n",
      "  df_uniao_europeia['media'] = df_uniao_europeia.mean(axis=1)\n",
      "C:\\Users\\Eduardo\\AppData\\Local\\Temp\\ipykernel_1992\\2264716236.py:7: SettingWithCopyWarning: \n",
      "A value is trying to be set on a copy of a slice from a DataFrame.\n",
      "Try using .loc[row_indexer,col_indexer] = value instead\n",
      "\n",
      "See the caveats in the documentation: https://pandas.pydata.org/pandas-docs/stable/user_guide/indexing.html#returning-a-view-versus-a-copy\n",
      "  df_uniao_europeia['media'] = df_uniao_europeia.mean(axis=1)\n"
     ]
    }
   ],
   "source": [
    "#lista de paises da uniao europeia\n",
    "lista_uniao_europeia = ['Austria', 'Belgium', 'Bulgaria', 'Croatia', 'Cyprus', 'Czech Republic', 'Denmark', 'Estonia', 'Finland', 'France', 'Germany', 'Greece', 'Hungary', 'Ireland', 'Italy', 'Latvia', 'Lithuania', 'Luxembourg', 'Malta', 'Netherlands', 'Poland', 'Portugal', 'Romania', 'Slovak Republic', 'Slovenia', 'Spain', 'Sweden', 'United Kingdom']\n",
    "dici_media_uniao_europeia = {}\n",
    "df_uniao_europeia = df[df['Country Name'].isin(lista_uniao_europeia)]\n",
    "\n",
    "#fazer media dos paises da uniao europeia\n",
    "df_uniao_europeia['media'] = df_uniao_europeia.mean(axis=1)\n",
    "\n",
    "#pegar coluna media dos paises da uniao europeia\n",
    "df_uniao_europeia_media = df_uniao_europeia['media']\n",
    "df_uniao_europeia_media\n",
    "#pegar a segunda coluna do dataframe\n",
    "\n",
    "for pais,num in zip(lista_uniao_europeia,range(len(df_uniao_europeia_media))):\n",
    "    dici_media_uniao_europeia[pais] = (df_uniao_europeia_media.iloc[num])\n",
    "print(dici_media_uniao_europeia)\n"
   ]
  },
  {
   "cell_type": "code",
   "execution_count": 4,
   "metadata": {},
   "outputs": [
    {
     "name": "stdout",
     "output_type": "stream",
     "text": [
      "Paises avancados da uniao europeia:  ['Croatia', 'Estonia', 'Italy', 'Lithuania', 'Luxembourg', 'Malta', 'Netherlands', 'Portugal', 'Slovenia']\n",
      "Paises emergentes da uniao europeia:  ['Austria', 'Belgium', 'Bulgaria', 'Cyprus', 'Czech Republic', 'Denmark', 'Finland', 'France', 'Germany', 'Greece', 'Hungary', 'Ireland', 'Latvia', 'Poland', 'Romania', 'Slovak Republic', 'Spain', 'Sweden']\n",
      "Paises avancados do mercosul:  ['Brazil', 'Paraguay']\n",
      "Paises emergentes do mercosul:  ['Argentina', 'Uruguay', 'Venezuela, RB']\n"
     ]
    },
    {
     "name": "stderr",
     "output_type": "stream",
     "text": [
      "C:\\Users\\Eduardo\\AppData\\Local\\Temp\\ipykernel_1992\\1034750875.py:2: FutureWarning: Dropping of nuisance columns in DataFrame reductions (with 'numeric_only=None') is deprecated; in a future version this will raise TypeError.  Select only valid columns before calling the reduction.\n",
      "  gdp_medio_global = df.mean(axis=1)\n"
     ]
    }
   ],
   "source": [
    "#gdp medio global\n",
    "gdp_medio_global = df.mean(axis=1)\n",
    "#Indice global está na linha 265\n",
    "gdp_medio_global = gdp_medio_global.iloc[264]\n",
    "\n",
    "\n",
    "lista_paises_avancados_uniao_europeia = []\n",
    "lista_paises_emergentes_uniao_europeia = []\n",
    "\n",
    "\n",
    "\n",
    "lista_paises_avancados_mercosul = []\n",
    "lista_paises_emergentes_mercosul = []\n",
    "\n",
    "for pais in dici_media_uniao_europeia:\n",
    "    if dici_media_uniao_europeia[pais] > gdp_medio_global:\n",
    "        lista_paises_avancados_uniao_europeia.append(pais)\n",
    "    else:\n",
    "        lista_paises_emergentes_uniao_europeia.append(pais)\n",
    "\n",
    "for pais in mercosul:\n",
    "    if dici_media_mercosul[pais] > gdp_medio_global:\n",
    "        lista_paises_avancados_mercosul.append(pais)\n",
    "    else:\n",
    "        lista_paises_emergentes_mercosul.append(pais)\n",
    "\n",
    "\n",
    "print('Paises avancados da uniao europeia: ',lista_paises_avancados_uniao_europeia)\n",
    "print('Paises emergentes da uniao europeia: ',lista_paises_emergentes_uniao_europeia)\n",
    "print('Paises avancados do mercosul: ',lista_paises_avancados_mercosul)\n",
    "print('Paises emergentes do mercosul: ',lista_paises_emergentes_mercosul)"
   ]
  },
  {
   "cell_type": "code",
   "execution_count": 15,
   "metadata": {},
   "outputs": [
    {
     "data": {
      "image/png": "[encoded data removed]",
      "text/plain": [
       "<Figure size 640x480 with 1 Axes>"
      ]
     },
     "metadata": {},
     "output_type": "display_data"
    }
   ],
   "source": [
    "#fazer graficpo de barras\n",
    "import matplotlib.pyplot as plt\n",
    "import numpy as np\n",
    "\n",
    "#dados\n",
    "paises = ['Avancados UE', 'Emergentes UE', 'Avancados Mercosul', 'Emergentes Mercosul']\n",
    "valores = [len(lista_paises_avancados_uniao_europeia), len(lista_paises_emergentes_uniao_europeia), len(lista_paises_avancados_mercosul), len(lista_paises_emergentes_mercosul)]\n",
    "\n",
    "#posicao das barras\n",
    "posicao = np.arange(len(paises))\n",
    "\n",
    "#largura das barras\n",
    "largura = 0.2\n",
    "\n",
    "#criar grafico\n",
    "plt.bar(posicao, valores, largura)\n",
    "\n",
    "#nomear eixos\n",
    "plt.ylabel('Quantidade de paises')\n",
    "plt.xlabel('Paises')\n",
    "plt.title('Distribuição de Paises avancados e emergentes')\n",
    "\n",
    "#nomear posicoes\n",
    "plt.xticks(posicao, paises)\n",
    "\n",
    "#mostrar grafico\n",
    "plt.show()\n",
    "\n"
   ]
  },
  {
   "cell_type": "markdown",
   "metadata": {},
   "source": [
    "**<h1>Exercicio 3</h1>**"
   ]
  },
  {
   "cell_type": "markdown",
   "metadata": {},
   "source": [
    "<h3>Uniao Europeia</h3>"
   ]
  },
  {
   "cell_type": "code",
   "execution_count": 6,
   "metadata": {},
   "outputs": [
    {
     "name": "stdout",
     "output_type": "stream",
     "text": [
      "Probabilidade de um pais da uniao europeia ser avancado: 32.14 %\n"
     ]
    }
   ],
   "source": [
    "prob = len(lista_paises_avancados_uniao_europeia)/len(lista_uniao_europeia)\n",
    "print(f'Probabilidade de um pais da uniao europeia ser avancado: {prob*100:.2f} %')"
   ]
  },
  {
   "cell_type": "markdown",
   "metadata": {},
   "source": [
    "<h3>MERCOSUL</h3>"
   ]
  },
  {
   "cell_type": "code",
   "execution_count": 7,
   "metadata": {},
   "outputs": [
    {
     "name": "stdout",
     "output_type": "stream",
     "text": [
      "Probabilidade de um pais do mercosul ser avancado: 40.00 %\n"
     ]
    }
   ],
   "source": [
    "prob = len(lista_paises_avancados_mercosul)/len(mercosul)\n",
    "print(f'Probabilidade de um pais do mercosul ser avancado: {prob*100:.2f} %')"
   ]
  },
  {
   "cell_type": "markdown",
   "metadata": {},
   "source": [
    "**<h1>Exercicio 4</h1>**\n",
    "\n",
    "<h3>Teorema de Bayes:</h3>\n",
    "\n",
    "            P(bloco|avancado) = P(avancado|bloco) * P(bloco) / P(avancado)\n",
    "\n",
    "\n"
   ]
  },
  {
   "cell_type": "markdown",
   "metadata": {},
   "source": [
    "<h3>MEROCOSUL</h3>"
   ]
  },
  {
   "cell_type": "code",
   "execution_count": 8,
   "metadata": {},
   "outputs": [
    {
     "name": "stdout",
     "output_type": "stream",
     "text": [
      "Probabilidade de um pais avançado ser do MERCOSUL é: 18.18 %\n"
     ]
    }
   ],
   "source": [
    "lista_paises_totais = lista_uniao_europeia + mercosul\n",
    "\n",
    "#P(avancado|bloco)\n",
    "prob1 = len(lista_paises_avancados_mercosul)/len(mercosul)\n",
    "\n",
    "#P(bloco)\n",
    "prob2 = len(mercosul)/len(lista_paises_totais)\n",
    "\n",
    "#P(avancado)\n",
    "prob3 = (len(lista_paises_avancados_uniao_europeia)+ len(lista_paises_avancados_mercosul))/len(lista_paises_totais)\n",
    "\n",
    "\n",
    "prob_mercosul_avancado = (prob1*prob2/prob3)\n",
    "\n",
    "print(f'Probabilidade de um pais avançado ser do MERCOSUL é: {prob_mercosul_avancado*100:.2F} %')"
   ]
  },
  {
   "cell_type": "markdown",
   "metadata": {},
   "source": [
    "<h3>União Europeia"
   ]
  },
  {
   "cell_type": "code",
   "execution_count": 9,
   "metadata": {},
   "outputs": [
    {
     "name": "stdout",
     "output_type": "stream",
     "text": [
      "Probabilidade de um pais avançado ser da União Europeia é: 81.82 %\n"
     ]
    }
   ],
   "source": [
    "\n",
    "#P(avancado|bloco)\n",
    "prob1 = len(lista_paises_avancados_uniao_europeia)/len(lista_uniao_europeia)\n",
    "\n",
    "#P(bloco)\n",
    "prob2 = len(lista_uniao_europeia)/len(lista_paises_totais)\n",
    "\n",
    "#P(avancado)\n",
    "prob3 = (len(lista_paises_avancados_uniao_europeia)+ len(lista_paises_avancados_mercosul))/len(lista_paises_totais)\n",
    "\n",
    "prob_uniao_europeia_avancado = (prob1*prob2/prob3)\n",
    "\n",
    "print(f'Probabilidade de um pais avançado ser da União Europeia é: {prob_uniao_europeia_avancado*100:.2F} %')\n"
   ]
  },
  {
   "cell_type": "markdown",
   "metadata": {},
   "source": [
    "**<h1>Exercicio 5</h1>**\n"
   ]
  },
  {
   "cell_type": "markdown",
   "metadata": {},
   "source": [
    "**<h3>Calculando P(bloco|emergente)</h3>**\n",
    "\n",
    "*MERCOSUL*"
   ]
  },
  {
   "cell_type": "code",
   "execution_count": 10,
   "metadata": {},
   "outputs": [
    {
     "name": "stdout",
     "output_type": "stream",
     "text": [
      "Probabilidade de um pais emergente ser do MERCOSUL é: 14.29 %\n"
     ]
    }
   ],
   "source": [
    "#P(emergente|bloco)\n",
    "prob1 = len(lista_paises_emergentes_mercosul)/len(mercosul)\n",
    "\n",
    "#P(bloco)\n",
    "prob2 = len(mercosul)/len(lista_paises_totais)\n",
    "\n",
    "#P(avancado)\n",
    "prob3 = (len(lista_paises_emergentes_uniao_europeia)+ len(lista_paises_emergentes_mercosul))/len(lista_paises_totais)\n",
    "\n",
    "\n",
    "prob_mercosul_emergente = (prob1*prob2/prob3)\n",
    "print(f'Probabilidade de um pais emergente ser do MERCOSUL é: {prob_mercosul_emergente*100:.2f} %')"
   ]
  },
  {
   "cell_type": "markdown",
   "metadata": {},
   "source": [
    "*União Europeia*"
   ]
  },
  {
   "cell_type": "code",
   "execution_count": 11,
   "metadata": {},
   "outputs": [
    {
     "name": "stdout",
     "output_type": "stream",
     "text": [
      "Probabilidade de um pais emergente ser da União Europeia é: 85.71 %\n"
     ]
    }
   ],
   "source": [
    "#P(avancado|bloco)\n",
    "prob1 = len(lista_paises_emergentes_uniao_europeia)/len(lista_uniao_europeia)\n",
    "\n",
    "#P(bloco)\n",
    "prob2 = len(lista_uniao_europeia)/len(lista_paises_totais)\n",
    "\n",
    "#P(avancado)\n",
    "prob3 = (len(lista_paises_emergentes_uniao_europeia)+ len(lista_paises_emergentes_mercosul))/len(lista_paises_totais)\n",
    "\n",
    "prob_uniao_europeia_emergente = (prob1*prob2/prob3)\n",
    "print(f'Probabilidade de um pais emergente ser da União Europeia é: {prob_uniao_europeia_emergente*100:.2f} %')"
   ]
  },
  {
   "cell_type": "markdown",
   "metadata": {},
   "source": [
    "**<h3>Fazendo a função</h3>**"
   ]
  },
  {
   "cell_type": "code",
   "execution_count": 12,
   "metadata": {},
   "outputs": [
    {
     "name": "stdout",
     "output_type": "stream",
     "text": [
      "Acertos: 28 \n",
      "Erros: 5\n",
      "Taxa de acerto: 84.85%\n"
     ]
    }
   ],
   "source": [
    "dici_ue_mercosul = {}\n",
    "for pais in lista_paises_totais:\n",
    "    if pais in lista_paises_avancados_uniao_europeia or pais in lista_paises_avancados_mercosul:\n",
    "        dici_ue_mercosul[pais] = 'avancado'\n",
    "    else:\n",
    "        dici_ue_mercosul[pais] = 'emergente'\n",
    "\n",
    "\n",
    "def verifica_status(status):\n",
    "    if status == 'avancado':\n",
    "        return \"uniao europeia\"\n",
    "    else:\n",
    "        return \"uniao europeia\"\n",
    "\n",
    "acertos = 0\n",
    "erros = 0\n",
    "for pais in lista_paises_totais:\n",
    "    if verifica_status(dici_ue_mercosul[pais]) == 'uniao europeia'and pais in lista_uniao_europeia:\n",
    "        acertos += 1\n",
    "    elif verifica_status(dici_ue_mercosul[pais]) == 'mercosul' and pais in mercosul:\n",
    "        acertos += 1\n",
    "    else:\n",
    "        erros += 1\n",
    "\n",
    "\n",
    "print(f'Acertos: {acertos} \\nErros: {erros}\\nTaxa de acerto: {acertos/(acertos+erros)*100:.2f}%')\n"
   ]
  },
  {
   "cell_type": "markdown",
   "metadata": {},
   "source": [
    "**<h1>Exercicio 6</h1>**"
   ]
  },
  {
   "cell_type": "markdown",
   "metadata": {},
   "source": [
    "``Pergunta:``\n",
    "Conclua: o indicador que você escolheu é um bom preditor para o bloco econômico?\n",
    "\n",
    "``Resposta:``\n",
    "O Indicador escolhido “Crescimento anual do GDP” não é um bom preditor para o bloco econômico. Durante a análise dos dados, concluímos que os países, independentemente se classificados como avançados ou emergentes, serão caracterizados como parte da União Europeia. Desse modo, mesmo tendo uma precisão alta de 84% não podemos considerá-lo como um bom indicador, já que essa porcentagem se deu por conta de uma análise enviesada."
   ]
  },
  {
   "cell_type": "markdown",
   "metadata": {},
   "source": [
    "**Feedback aps2**\n",
    "\n",
    "- Foi alterado o texto em markdown adicionando a realação do indicador com o nosso problema\n",
    "\n",
    "- Foi alterado o primeiro gráfico, para assim ficar com os indicadores corretos e a legenda não sobrepo-lo"
   ]
  }
 ],
 "metadata": {
  "kernelspec": {
   "display_name": "Python 3.10.2 64-bit",
   "language": "python",
   "name": "python3"
  },
  "language_info": {
   "codemirror_mode": {
    "name": "ipython",
    "version": 3
   },
   "file_extension": ".py",
   "mimetype": "text/x-python",
   "name": "python",
   "nbconvert_exporter": "python",
   "pygments_lexer": "ipython3",
   "version": "3.10.2"
  },
  "orig_nbformat": 4,
  "vscode": {
   "interpreter": {
    "hash": "91e32b75ecf3080d170411cb1649c483b59a4efe3288a5b0a9b6b201a0b09750"
   }
  }
 },
 "nbformat": 4,
 "nbformat_minor": 2
}
